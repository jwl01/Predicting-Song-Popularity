{
 "cells": [
  {
   "cell_type": "code",
   "execution_count": 2,
   "metadata": {},
   "outputs": [],
   "source": [
    "#Importing all libraries that may be used in order to execute project code.\n",
    "#The purpose is to build predictive models to determine the popularity of a song on Spotify.\n",
    "import pandas as pd\n",
    "import seaborn as sns\n",
    "import plotly.express as px\n",
    "import numpy as np\n",
    "import matplotlib.pyplot as plt\n",
    "import statsmodels.formula.api as smf\n",
    "import statsmodels.api as sm\n",
    "from sklearn import datasets, linear_model\n",
    "from sklearn.model_selection import train_test_split\n",
    "from sklearn import metrics\n",
    "from sklearn.neural_network import MLPClassifier\n",
    "from sklearn.linear_model import LinearRegression\n",
    "from sklearn.neighbors import KNeighborsRegressor"
   ]
  },
  {
   "cell_type": "code",
   "execution_count": null,
   "metadata": {},
   "outputs": [],
   "source": [
    "#Importing Spotify Dataset. The dataset was opened in Microsoft Excel and the label 'index' was added.\n",
    "#You will need to have the spotify csv from kaggle linked here: https://www.kaggle.com/datasets/maharshipandya/-spotify-tracks-dataset?resource=download\n",
    "spotifydf = pd.read_csv('')#Include pathname here in between the parentheses\n",
    "spotifydf"
   ]
  },
  {
   "cell_type": "code",
   "execution_count": null,
   "metadata": {},
   "outputs": [],
   "source": [
    "#The index column is no longer needed as an index has automatically been added, so it will be dropped from the table.\n",
    "spotifydf = spotifydf.drop(columns=['index'])\n",
    "spotifydf"
   ]
  },
  {
   "cell_type": "code",
   "execution_count": null,
   "metadata": {},
   "outputs": [],
   "source": [
    "#The following code drops duplicates of artists and tracks since artists may release a track multiple times on different albums, mixtapes, etc. \n",
    "spotifydf = spotifydf.drop_duplicates(subset=['artists','track_name'], keep = 'first').reset_index(drop=True)\n",
    "spotifydf"
   ]
  },
  {
   "cell_type": "code",
   "execution_count": null,
   "metadata": {},
   "outputs": [],
   "source": [
    "#This code gets information on the dataset. Information includes the variable names, count, types, and whether there are null values.\n",
    "spotifydf.info()"
   ]
  },
  {
   "cell_type": "code",
   "execution_count": null,
   "metadata": {},
   "outputs": [],
   "source": [
    "#This code gets the summary statistics on the numeric variables of the dataset. \n",
    "spotifydf.describe()"
   ]
  },
  {
   "cell_type": "code",
   "execution_count": null,
   "metadata": {},
   "outputs": [],
   "source": [
    "#The following code creates boxplots to visualize summary statistics of select numeric variables. Because there are 20 variables,\n",
    "#the code visualizes three variables: popularity, danceability, and energy.\n",
    "\n",
    "#Popularity \n",
    "popbox = sns.boxplot(spotifydf, x = 'popularity')"
   ]
  },
  {
   "cell_type": "code",
   "execution_count": null,
   "metadata": {},
   "outputs": [],
   "source": [
    "#Danceability\n",
    "dancebox = sns.boxplot(spotifydf, x = 'danceability')"
   ]
  },
  {
   "cell_type": "code",
   "execution_count": null,
   "metadata": {},
   "outputs": [],
   "source": [
    "#Energy \n",
    "energybox = sns.boxplot(spotifydf, x = 'energy')"
   ]
  },
  {
   "cell_type": "code",
   "execution_count": null,
   "metadata": {},
   "outputs": [],
   "source": [
    "#This code provides exploratory visualizations of the categorical variable 'track_genre' since it's not included in the summary statistics.\n",
    "#Since there are over 100 genres, it looks at the pie chart of the ten most popular genres by sum of popularity.\n",
    "pie = spotifydf.groupby(['track_genre']).sum().head(10).reset_index().sort_values(by = 'popularity', ascending = False)\n",
    "piechart = px.pie(pie, names = 'track_genre', values='popularity', title= '10 Most Popular Genres by Sum of Popularity')\n",
    "piechart.show()"
   ]
  },
  {
   "cell_type": "code",
   "execution_count": null,
   "metadata": {},
   "outputs": [],
   "source": [
    "#This code determines the correlation of the variables in order to visualize and select variables for the predictive model\n",
    "spotifydf.corr()"
   ]
  },
  {
   "cell_type": "code",
   "execution_count": null,
   "metadata": {},
   "outputs": [],
   "source": [
    "#This a heatmap visualizing the correlation of the variables \n",
    "heatmap = px.imshow(spotifydf.corr())\n",
    "heatmap.show()"
   ]
  },
  {
   "cell_type": "code",
   "execution_count": 14,
   "metadata": {},
   "outputs": [],
   "source": [
    "#Looking at the matrix and heatmap, none of the variables seem to be obviously correlated to cause concern for multicollinearity. \n",
    "#Therefore primary variables selected for the linear regression predictive were based on personal decisions.\n",
    "#Selected variables were danceability, energy, and loudness."
   ]
  },
  {
   "cell_type": "code",
   "execution_count": null,
   "metadata": {},
   "outputs": [],
   "source": [
    "#One of the predictive models is linear regression. This code uses statsmodels to run the linear regression model.\n",
    "model = smf.ols('popularity ~ danceability + energy +loudness', data = spotifydf)\n",
    "results = model.fit()\n",
    "print(results.summary())"
   ]
  },
  {
   "cell_type": "code",
   "execution_count": null,
   "metadata": {},
   "outputs": [],
   "source": [
    "#This is a partial regression plot that displays the relationship between the dependent variable and the given independent varriable\n",
    "#after removing the effect of the other independent variables.\n",
    "figlr1 = sm.graphics.plot_partregress_grid(results)"
   ]
  },
  {
   "cell_type": "code",
   "execution_count": null,
   "metadata": {},
   "outputs": [],
   "source": [
    "#This code visualizes the errors (residuals) of the model \n",
    "pred_val = results.fittedvalues.copy()\n",
    "residuals = spotifydf['popularity'] - pred_val\n",
    "fig = sns.histplot(residuals)\n",
    "fig"
   ]
  },
  {
   "cell_type": "code",
   "execution_count": 15,
   "metadata": {},
   "outputs": [],
   "source": [
    "#This is splitting data for training and testing. 80% goes into training, 20% goes into testing. \n",
    "#This will be used to run another linear regression that gives us predictions and for the kNeighbors predictive \n",
    "x = spotifydf[['danceability','energy','loudness']].to_numpy()\n",
    "y = spotifydf['popularity'].to_numpy()\n",
    "data_train, data_test, label_train, label_test = train_test_split(x,y,test_size=0.2)"
   ]
  },
  {
   "cell_type": "code",
   "execution_count": null,
   "metadata": {},
   "outputs": [],
   "source": [
    "#Another version of the linear Regression using sklearn to get some predictions. \n",
    "LinReg = LinearRegression()\n",
    "LinReg.fit(data_train,label_train)\n",
    "lrlabel_predict = LinReg.predict(data_test)\n",
    "lrlabel_predict"
   ]
  },
  {
   "cell_type": "code",
   "execution_count": null,
   "metadata": {},
   "outputs": [],
   "source": [
    "#This is code is checking the R^2 value again to see correlation between the dependent variable and independent variables.\n",
    "print(LinReg.score(data_test,label_test))"
   ]
  },
  {
   "cell_type": "code",
   "execution_count": null,
   "metadata": {},
   "outputs": [],
   "source": [
    "#This is a visualization of the relationship between predicted and actual values in the sklearn linear regression. It doesn't provide \n",
    "#much information\n",
    "model = LinearRegression().fit(data_train,label_train)\n",
    "y_pred = model.predict(data_test)\n",
    "plt.scatter(label_test, y_pred)"
   ]
  },
  {
   "cell_type": "code",
   "execution_count": null,
   "metadata": {},
   "outputs": [],
   "source": [
    "#This code is using kNeighborsRegressors from sklearn as another predictive model. It will predict popularity by\n",
    "#incorporating associated nearest neighbors. \n",
    "#The number of neighbors was manually changed by counting by 5s until reached a point where the model no longer improved significantly.\n",
    "\n",
    "knn = KNeighborsRegressor(n_neighbors=85)\n",
    "knn.fit(data_train, label_train)\n",
    "label_predict = knn.predict(data_test)\n",
    "label_predict"
   ]
  },
  {
   "cell_type": "code",
   "execution_count": null,
   "metadata": {},
   "outputs": [],
   "source": [
    "#This gives the coefficient of determination of the prediction (like the R^2 value)\n",
    "print(knn.score(data_test,label_test))"
   ]
  },
  {
   "cell_type": "code",
   "execution_count": null,
   "metadata": {},
   "outputs": [],
   "source": [
    "#This is a visualization of the relationship between predicted and actual values in the sklearn kNeighbors regression. Like the linear\n",
    "#regression, it doesn't provide much information.\n",
    "model = knn.fit(data_train, label_train)\n",
    "y_pred = model.predict(data_test)\n",
    "plt.scatter(label_test, y_pred)"
   ]
  },
  {
   "cell_type": "code",
   "execution_count": null,
   "metadata": {},
   "outputs": [],
   "source": [
    "#Compared to the linear regression model, the kNeighbors regression model performed better than the linear regression model. \n",
    "#The coefficient was 0.05 (rounded) meaning the model detected a higher correlation between the variables. However,in\n",
    "#both linear regression and kNeighbors regression, the relationship was weak. \n",
    "#While the models were able to successfully predict a song's popularity, the selected independent variables may have not been the best \n",
    "#to choose. In order to improve the models, other variables would be selected and tested. "
   ]
  }
 ],
 "metadata": {
  "kernelspec": {
   "display_name": "Python 3.10.7 64-bit",
   "language": "python",
   "name": "python3"
  },
  "language_info": {
   "codemirror_mode": {
    "name": "ipython",
    "version": 3
   },
   "file_extension": ".py",
   "mimetype": "text/x-python",
   "name": "python",
   "nbconvert_exporter": "python",
   "pygments_lexer": "ipython3",
   "version": "3.10.7"
  },
  "orig_nbformat": 4,
  "vscode": {
   "interpreter": {
    "hash": "aee8b7b246df8f9039afb4144a1f6fd8d2ca17a180786b69acc140d282b71a49"
   }
  }
 },
 "nbformat": 4,
 "nbformat_minor": 2
}
